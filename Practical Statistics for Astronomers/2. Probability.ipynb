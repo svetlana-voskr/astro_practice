{
 "cells": [
  {
   "cell_type": "code",
   "execution_count": 1,
   "metadata": {},
   "outputs": [],
   "source": [
    "import numpy as np\n",
    "import matplotlib.pyplot as plt"
   ]
  },
  {
   "cell_type": "markdown",
   "metadata": {},
   "source": [
    "# Ex. 1"
   ]
  },
  {
   "cell_type": "markdown",
   "metadata": {},
   "source": [
    "Every computer has a way of producing a random number between 0\n",
    "and 1. Use this to simulate a simple coin-tossing game where player A\n",
    "gets a point for heads, player B a point for tails. Guess how often in a\n",
    "game of N tosses the lead will change; if A is in the lead at toss N,\n",
    "when was the previous change of lead most likely to be? And by how\n",
    "much is a player typically in the lead? Try to back up these guesses with\n",
    "calculations."
   ]
  },
  {
   "cell_type": "markdown",
   "metadata": {},
   "source": [
    "**Solution**\n",
    "\n",
    "After each game the score depend on previous results (it's a sum of result on each step). The mean score of gans and losses is zero, but the scatter is $\\sqrt{N}$\n",
    "\n",
    "Let $x_i$ - a score. It can be plus or minus one. So:\n",
    "$$Score = \\sum_i{x_i}$$\n",
    "\n",
    "$$\\sigma = \\sqrt{\\sum_i{x_i^2}}$$\n",
    "\n",
    "That mean that one player can get a long way ahead. It's time simmetry, so at the end can happend one more change"
   ]
  },
  {
   "cell_type": "code",
   "execution_count": 47,
   "metadata": {},
   "outputs": [],
   "source": [
    "def game_lead(N):\n",
    "    \"\"\"\n",
    "    N - number of games in a batch\n",
    "    \"\"\"\n",
    "    while True:\n",
    "        change = []\n",
    "        A = 0\n",
    "        B = 0\n",
    "        coins = np.random.choice([0, 1], size = N)\n",
    "        for i, coin in enumerate(coins):\n",
    "            if coin == 0:\n",
    "                A += 1\n",
    "                if ((A - 1) == B) & (A > B):\n",
    "                    change.append(i)\n",
    "            else:\n",
    "                B += 1\n",
    "        if A > B:\n",
    "            break\n",
    "        else: continue\n",
    "    return change[-1]"
   ]
  },
  {
   "cell_type": "code",
   "execution_count": 58,
   "metadata": {},
   "outputs": [],
   "source": [
    "change = []\n",
    "for i in range(10000):\n",
    "    change.append(game_lead(101))"
   ]
  },
  {
   "cell_type": "code",
   "execution_count": 59,
   "metadata": {},
   "outputs": [
    {
     "data": {
      "image/png": "[encoded data removed]",
      "text/plain": [
       "<Figure size 432x288 with 1 Axes>"
      ]
     },
     "metadata": {
      "needs_background": "light"
     },
     "output_type": "display_data"
    }
   ],
   "source": [
    "plt.hist(change, bins = np.arange(0, 102, 1))\n",
    "plt.ylabel('Number')\n",
    "plt.xlabel('Number of previous change')\n",
    "plt.show()"
   ]
  },
  {
   "cell_type": "markdown",
   "metadata": {},
   "source": [
    "# Ex.2"
   ]
  },
  {
   "cell_type": "code",
   "execution_count": null,
   "metadata": {},
   "outputs": [],
   "source": []
  }
 ],
 "metadata": {
  "kernelspec": {
   "display_name": "Python 3",
   "language": "python",
   "name": "python3"
  },
  "language_info": {
   "codemirror_mode": {
    "name": "ipython",
    "version": 3
   },
   "file_extension": ".py",
   "mimetype": "text/x-python",
   "name": "python",
   "nbconvert_exporter": "python",
   "pygments_lexer": "ipython3",
   "version": "3.8.5"
  }
 },
 "nbformat": 4,
 "nbformat_minor": 4
}
